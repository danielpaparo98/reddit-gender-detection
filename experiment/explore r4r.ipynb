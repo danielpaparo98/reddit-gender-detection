{
 "cells": [
  {
   "cell_type": "markdown",
   "metadata": {},
   "source": [
    "# Exploring the available data\n",
    "\n",
    "To find insights into the available data source. "
   ]
  },
  {
   "cell_type": "code",
   "execution_count": 1,
   "metadata": {},
   "outputs": [],
   "source": [
    "import pandas as pd\n",
    "import matplotlib.pyplot as plt"
   ]
  },
  {
   "cell_type": "code",
   "execution_count": 2,
   "metadata": {},
   "outputs": [],
   "source": [
    "df = pd.read_csv('../training_data/r4r_sample.csv')"
   ]
  },
  {
   "cell_type": "markdown",
   "metadata": {},
   "source": [
    "## Gender distribution\n",
    "\n",
    "It has been found previously that the distribution of gender on reddit is more towards male. This is also represented within the r/r4r sample corpus. with the following distributions:"
   ]
  },
  {
   "cell_type": "code",
   "execution_count": 3,
   "metadata": {},
   "outputs": [
    {
     "name": "stdout",
     "output_type": "stream",
     "text": [
      "M    408741\n",
      "F     78025\n",
      "R      8120\n",
      "T      4980\n",
      "C        47\n",
      "W        17\n",
      "A        16\n",
      "Name: gender, dtype: int64\n"
     ]
    },
    {
     "name": "stderr",
     "output_type": "stream",
     "text": [
      "C:\\ProgramData\\Anaconda3\\lib\\site-packages\\matplotlib\\figure.py:445: UserWarning: Matplotlib is currently using module://ipykernel.pylab.backend_inline, which is a non-GUI backend, so cannot show the figure.\n",
      "  % get_backend())\n"
     ]
    },
    {
     "data": {
      "image/png": "[encoded data removed]",
      "text/plain": [
       "<Figure size 432x288 with 1 Axes>"
      ]
     },
     "metadata": {
      "needs_background": "light"
     },
     "output_type": "display_data"
    }
   ],
   "source": [
    "sex_distribution = df[\"gender\"].str.upper().value_counts()\n",
    "\n",
    "print(sex_distribution)\n",
    "\n",
    "# Generate plot of data\n",
    "fig = plt.figure()\n",
    "ax = fig.add_axes([0,0,1,1])\n",
    "\n",
    "ax.bar(sex_distribution.keys(), sex_distribution)\n",
    "\n",
    "fig.show()"
   ]
  },
  {
   "cell_type": "markdown",
   "metadata": {},
   "source": [
    "For additional clarification, the following will be used for the gender mappings\n",
    "\n",
    "| Acronym | Meaning     |\n",
    "|---------|-------------|\n",
    "| M       | male        |\n",
    "| F       | female      |\n",
    "| T       | transgender |\n",
    "| R       | unknown     |\n",
    "| C       | unknown     |\n",
    "| W       | unknown     |\n",
    "| A       | unknown     |"
   ]
  },
  {
   "cell_type": "markdown",
   "metadata": {},
   "source": [
    "## Age distribution\n",
    "\n",
    "The following age distribution has been found for the r/r4r corpus:"
   ]
  },
  {
   "cell_type": "code",
   "execution_count": 4,
   "metadata": {},
   "outputs": [
    {
     "name": "stderr",
     "output_type": "stream",
     "text": [
      "C:\\ProgramData\\Anaconda3\\lib\\site-packages\\matplotlib\\figure.py:445: UserWarning: Matplotlib is currently using module://ipykernel.pylab.backend_inline, which is a non-GUI backend, so cannot show the figure.\n",
      "  % get_backend())\n"
     ]
    },
    {
     "data": {
      "image/png": "[encoded data removed]",
      "text/plain": [
       "<Figure size 432x288 with 1 Axes>"
      ]
     },
     "metadata": {
      "needs_background": "light"
     },
     "output_type": "display_data"
    }
   ],
   "source": [
    "age_distribution = df['age'].str.extract('(\\d+)', expand=False).value_counts()\n",
    "\n",
    "age_distribution.index = age_distribution.index.astype(int)\n",
    "\n",
    "# Generate plot of data\n",
    "fig = plt.figure()\n",
    "ax = fig.add_axes([0,0,1,1])\n",
    "\n",
    "age_distribution = age_distribution.where(age_distribution.index < 70)\n",
    "\n",
    "age_distribution = age_distribution.where(age_distribution.index > 15)\n",
    "\n",
    "\n",
    "ax.bar(age_distribution.keys(), age_distribution)\n",
    "\n",
    "fig.show()"
   ]
  },
  {
   "cell_type": "markdown",
   "metadata": {},
   "source": [
    "Note that some outliers have been removed from the above histogram (below 15 and above 70). These may have been in the data set as a result of the authors error or potentially as a joke - therefor have been excluded.\n",
    "\n",
    "Clearly there is a strong bias in the data set for young adults (age 18 to 30 ). This will need to be addressed through sourcing alternative data sources. Some possible options include r/teenages (for a corpus of teen-aged redditors) or special r/r4r style subreddits for older redditors."
   ]
  }
 ],
 "metadata": {
  "kernelspec": {
   "display_name": "Python 3",
   "language": "python",
   "name": "python3"
  },
  "language_info": {
   "codemirror_mode": {
    "name": "ipython",
    "version": 3
   },
   "file_extension": ".py",
   "mimetype": "text/x-python",
   "name": "python",
   "nbconvert_exporter": "python",
   "pygments_lexer": "ipython3",
   "version": "3.7.3"
  }
 },
 "nbformat": 4,
 "nbformat_minor": 2
}
